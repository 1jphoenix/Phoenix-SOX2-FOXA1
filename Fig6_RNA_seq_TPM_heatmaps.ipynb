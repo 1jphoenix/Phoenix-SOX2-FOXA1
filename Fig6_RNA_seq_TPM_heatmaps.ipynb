{
  "nbformat": 4,
  "nbformat_minor": 0,
  "metadata": {
    "colab": {
      "provenance": []
    },
    "kernelspec": {
      "name": "python3",
      "display_name": "Python 3"
    },
    "language_info": {
      "name": "python"
    }
  },
  "cells": [
    {
      "cell_type": "code",
      "execution_count": null,
      "metadata": {
        "id": "RuvNo0jR2P5x",
        "collapsed": true
      },
      "outputs": [],
      "source": [
        "# These libraries are usually pre-installed in Colab, but just in case\n",
        "!pip install seaborn matplotlib pandas\n",
        "!pip install mygene  # Install the mygene package"
      ]
    },
    {
      "cell_type": "code",
      "source": [
        "from google.colab import files\n",
        "import pandas as pd\n",
        "\n",
        "# Upload the file\n",
        "uploaded = files.upload()\n",
        "filename = next(iter(uploaded))\n",
        "\n",
        "# Read the file as UTF-16 and fix the BOM\n",
        "df = pd.read_csv(filename, sep='\\t', encoding='utf-16')\n",
        "\n",
        "# Clean up column names (remove BOM if it snuck into 'ENSEMBL_ID')\n",
        "df.columns = [col.strip().replace('\\ufeff', '') for col in df.columns]\n",
        "\n",
        "# Set ENSEMBL_ID as the index\n",
        "df.set_index('ENSEMBL_ID', inplace=True)\n",
        "\n",
        "# Preview\n",
        "df.head()"
      ],
      "metadata": {
        "id": "cdSpMKiS4BOu",
        "collapsed": true
      },
      "execution_count": null,
      "outputs": []
    },
    {
      "cell_type": "code",
      "source": [
        "import pandas as pd\n",
        "import seaborn as sns\n",
        "import matplotlib.pyplot as plt\n",
        "from google.colab import files\n",
        "from biothings_client import get_client\n",
        "\n",
        "# 1. Upload file\n",
        "uploaded = files.upload()\n",
        "filename = next(iter(uploaded))\n",
        "\n",
        "# 2. Read with correct encoding and clean columns\n",
        "df = pd.read_csv(filename, sep='\\t', encoding='utf-16')\n",
        "df.columns = [col.strip().replace('\\ufeff', '') for col in df.columns]\n",
        "df.set_index('ENSEMBL_ID', inplace=True)\n",
        "\n",
        "# 3. Define sample columns\n",
        "all_samples = ['Control_1', 'Control_2', 'Control_3', 'SOX2KO_1', 'SOX2KO_2', 'SOX2KO_3']\n",
        "\n",
        "# 4. Your gene list (SYMBOLS)\n",
        "genes_of_interest = ['SOX2', 'FOXA1', 'AR', 'CDK14', 'CDK1', 'ROR1', 'ROR2', 'WNT5A', 'WNT2', 'SEMA3C', 'FGF5', 'IGF1', 'FGFR2','NKX2-1', 'NGF', 'ASCL1', 'ASCL2', 'POU3F2', 'INSM1', 'FOXA2', 'CREB1', 'CREB5', 'DLL1', 'JAK1', 'TLE1', 'NRARP', 'NOTCH1', 'ESRRG', 'COLCA1', 'POU2AF3', 'EHF', 'ERG']\n",
        "\n",
        "# 5. Convert to Ensembl IDs\n",
        "mg = get_client('gene')\n",
        "\n",
        "def get_ensembl_ids(gene_names):\n",
        "    gene_info = mg.querymany(gene_names, scopes='symbol', fields='ensembl.gene', species='human')\n",
        "    ensembl_ids = {}\n",
        "    for gene in gene_info:\n",
        "        query = gene['query']\n",
        "        if 'ensembl' in gene:\n",
        "            if isinstance(gene['ensembl'], list):\n",
        "                ensembl_ids[query] = gene['ensembl'][0]['gene']\n",
        "            elif isinstance(gene['ensembl'], dict):\n",
        "                ensembl_ids[query] = gene['ensembl']['gene']\n",
        "    return ensembl_ids\n",
        "\n",
        "ensembl_ids_dict = get_ensembl_ids(genes_of_interest)\n",
        "print(ensembl_ids_dict)\n",
        "\n",
        "# 6. Filter matrix by valid Ensembl IDs\n",
        "valid_genes = {symbol: eid for symbol, eid in ensembl_ids_dict.items() if eid in df.index}\n",
        "expression_data = df.loc[valid_genes.values(), all_samples]\n",
        "expression_data.index = [k for k, v in valid_genes.items()]\n",
        "\n",
        "# 7. Normalize each row to its own min-max\n",
        "normalized_data = expression_data.sub(expression_data.min(axis=1), axis=0)\n",
        "normalized_data = normalized_data.div(expression_data.max(axis=1) - expression_data.min(axis=1), axis=0)\n",
        "\n",
        "# 8. Plot heatmap (normalized TPM per gene row)\n",
        "plt.figure(figsize=(8, 5))\n",
        "ax = sns.heatmap(\n",
        "    normalized_data,\n",
        "    annot=False,\n",
        "    cmap='RdBu_r',\n",
        "    cbar_kws={'label': 'Relative Expression (Min–Max)', 'ticks': []},\n",
        "    xticklabels=all_samples\n",
        ")\n",
        "\n",
        "# Rotate the x-axis labels by 45 degrees to prevent overlap\n",
        "plt.xticks(rotation=90, ha='right')\n",
        "\n",
        "# Remove tick labels from color bar\n",
        "colorbar = ax.collections[0].colorbar\n",
        "colorbar.ax.set_yticklabels([])  # No tick labels on color bar\n",
        "colorbar.ax.tick_params(size=0)  # Remove tick marks\n",
        "\n",
        "# Adjust aspect ratio to make cells square\n",
        "ax.set_aspect('equal', adjustable='box')\n",
        "\n",
        "# Italicize gene names on the y-axis\n",
        "plt.yticks(fontstyle='italic')\n",
        "\n",
        "plt.title('CWR-R1 Normalized Gene Expression')\n",
        "plt.tight_layout()\n",
        "\n",
        "# Save and download\n",
        "plt.savefig(\"normalized_heatmap.png\", dpi=300, bbox_inches='tight')\n",
        "plt.show()\n",
        "#files.download(\"normalized_heatmap.png\")"
      ],
      "metadata": {
        "id": "_wDxejevORr3"
      },
      "execution_count": null,
      "outputs": []
    },
    {
      "cell_type": "code",
      "source": [],
      "metadata": {
        "id": "fvKWLRMhQ3tI"
      },
      "execution_count": null,
      "outputs": []
    }
  ]
}